{
 "cells": [
  {
   "cell_type": "markdown",
   "id": "7ca825f6-25fd-4560-97dd-a48e5833817b",
   "metadata": {},
   "source": [
    "# Recurrent Neural Network"
   ]
  },
  {
   "cell_type": "code",
   "execution_count": 4,
   "id": "d79d9870-4d51-48f1-85b8-599a034592b8",
   "metadata": {},
   "outputs": [],
   "source": [
    "from src.imports import *"
   ]
  },
  {
   "cell_type": "code",
   "execution_count": null,
   "id": "df341fc5-bb64-4004-80ec-482dc12885cb",
   "metadata": {},
   "outputs": [],
   "source": []
  }
 ],
 "metadata": {
  "kernelspec": {
   "display_name": "Python 3",
   "language": "python",
   "name": "python3"
  },
  "language_info": {
   "codemirror_mode": {
    "name": "ipython",
    "version": 3
   },
   "file_extension": ".py",
   "mimetype": "text/x-python",
   "name": "python",
   "nbconvert_exporter": "python",
   "pygments_lexer": "ipython3",
   "version": "3.9.2"
  }
 },
 "nbformat": 4,
 "nbformat_minor": 5
}
